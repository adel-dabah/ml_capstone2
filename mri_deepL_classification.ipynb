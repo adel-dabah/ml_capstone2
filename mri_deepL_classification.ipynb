{
 "cells": [
  {
   "cell_type": "code",
   "execution_count": 2,
   "id": "a8af032a-9d6d-4c32-a691-ca8f71b522f7",
   "metadata": {
    "execution": {
     "iopub.execute_input": "2025-01-26T17:58:49.583665Z",
     "iopub.status.busy": "2025-01-26T17:58:49.583099Z",
     "iopub.status.idle": "2025-01-26T17:58:49.586732Z",
     "shell.execute_reply": "2025-01-26T17:58:49.586220Z",
     "shell.execute_reply.started": "2025-01-26T17:58:49.583641Z"
    }
   },
   "outputs": [],
   "source": [
    "import tensorflow as tf "
   ]
  },
  {
   "cell_type": "code",
   "execution_count": null,
   "id": "c8a140f2-5193-4fb1-8942-623ae48f113d",
   "metadata": {},
   "outputs": [],
   "source": []
  }
 ],
 "metadata": {
  "kernelspec": {
   "display_name": "saturn (Python 3)",
   "language": "python",
   "name": "python3"
  },
  "language_info": {
   "codemirror_mode": {
    "name": "ipython",
    "version": 3
   },
   "file_extension": ".py",
   "mimetype": "text/x-python",
   "name": "python",
   "nbconvert_exporter": "python",
   "pygments_lexer": "ipython3",
   "version": "3.12.7"
  }
 },
 "nbformat": 4,
 "nbformat_minor": 5
}

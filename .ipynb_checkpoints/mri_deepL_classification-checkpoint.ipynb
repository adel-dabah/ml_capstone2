{
 "cells": [
  {
   "cell_type": "code",
   "execution_count": 3,
   "id": "a8af032a-9d6d-4c32-a691-ca8f71b522f7",
   "metadata": {
    "execution": {
     "iopub.execute_input": "2025-01-26T18:12:23.360538Z",
     "iopub.status.busy": "2025-01-26T18:12:23.360212Z",
     "iopub.status.idle": "2025-01-26T18:12:23.363669Z",
     "shell.execute_reply": "2025-01-26T18:12:23.363041Z",
     "shell.execute_reply.started": "2025-01-26T18:12:23.360515Z"
    }
   },
   "outputs": [],
   "source": [
    "import tensorflow as tf "
   ]
  },
  {
   "cell_type": "code",
   "execution_count": 7,
   "id": "c8a140f2-5193-4fb1-8942-623ae48f113d",
   "metadata": {
    "execution": {
     "iopub.execute_input": "2025-01-26T18:26:48.835549Z",
     "iopub.status.busy": "2025-01-26T18:26:48.835160Z",
     "iopub.status.idle": "2025-01-26T18:26:50.716445Z",
     "shell.execute_reply": "2025-01-26T18:26:50.715678Z",
     "shell.execute_reply.started": "2025-01-26T18:26:48.835521Z"
    }
   },
   "outputs": [
    {
     "name": "stdout",
     "output_type": "stream",
     "text": [
      "  % Total    % Received % Xferd  Average Speed   Time    Time     Time  Current\n",
      "                                 Dload  Upload   Total   Spent    Left  Speed\n",
      "  0     0    0     0    0     0      0      0 --:--:-- --:--:-- --:--:--     0\n",
      "100  148M  100  148M    0     0   119M      0  0:00:01  0:00:01 --:--:--  191M\n"
     ]
    }
   ],
   "source": [
    "#!/bin/bash\n",
    "!curl -L -o ./brain-tumor-mri-dataset.zip\\\n",
    "  https://www.kaggle.com/api/v1/datasets/download/masoudnickparvar/brain-tumor-mri-dataset"
   ]
  },
  {
   "cell_type": "code",
   "execution_count": 22,
   "id": "715e02fd-ee22-47e9-9fd5-2a13034be4dd",
   "metadata": {
    "execution": {
     "iopub.execute_input": "2025-01-26T18:50:13.807623Z",
     "iopub.status.busy": "2025-01-26T18:50:13.807288Z",
     "iopub.status.idle": "2025-01-26T18:50:13.810788Z",
     "shell.execute_reply": "2025-01-26T18:50:13.810209Z",
     "shell.execute_reply.started": "2025-01-26T18:50:13.807598Z"
    }
   },
   "outputs": [],
   "source": [
    "import numpy as np \n",
    "import pandas as pd\n",
    "import time\n",
    "import matplotlib.pyplot as plt"
   ]
  },
  {
   "cell_type": "code",
   "execution_count": 8,
   "id": "2b76b4b2-a827-4185-acb9-4b3c00b54bee",
   "metadata": {
    "execution": {
     "iopub.execute_input": "2025-01-26T18:27:11.698803Z",
     "iopub.status.busy": "2025-01-26T18:27:11.698454Z",
     "iopub.status.idle": "2025-01-26T18:27:11.703652Z",
     "shell.execute_reply": "2025-01-26T18:27:11.703015Z",
     "shell.execute_reply.started": "2025-01-26T18:27:11.698774Z"
    }
   },
   "outputs": [
    {
     "name": "stdout",
     "output_type": "stream",
     "text": [
      "/home/jovyan/workspace/ml_capstone2\n"
     ]
    }
   ],
   "source": [
    "cd ml_capstone2/"
   ]
  },
  {
   "cell_type": "code",
   "execution_count": 23,
   "id": "d99b6b4d-cfe6-4d67-8fcd-aeab3c9f35ec",
   "metadata": {
    "execution": {
     "iopub.execute_input": "2025-01-26T18:50:22.374295Z",
     "iopub.status.busy": "2025-01-26T18:50:22.373959Z",
     "iopub.status.idle": "2025-01-26T18:50:22.377470Z",
     "shell.execute_reply": "2025-01-26T18:50:22.376816Z",
     "shell.execute_reply.started": "2025-01-26T18:50:22.374274Z"
    }
   },
   "outputs": [],
   "source": [
    "from tensorflow import keras\n",
    "from tensorflow.keras.preprocessing.image import load_img"
   ]
  },
  {
   "cell_type": "code",
   "execution_count": 24,
   "id": "8f1a9e04-84cf-4ff1-a6a8-ba31763c1f4a",
   "metadata": {
    "execution": {
     "iopub.execute_input": "2025-01-26T18:50:25.386223Z",
     "iopub.status.busy": "2025-01-26T18:50:25.385862Z",
     "iopub.status.idle": "2025-01-26T18:50:25.391043Z",
     "shell.execute_reply": "2025-01-26T18:50:25.390484Z",
     "shell.execute_reply.started": "2025-01-26T18:50:25.386200Z"
    }
   },
   "outputs": [],
   "source": [
    "img=load_img(\"./dataset/Training/meningioma/Tr-me_0010.jpg\",target_size=(100,100))"
   ]
  },
  {
   "cell_type": "code",
   "execution_count": 31,
   "id": "a6e932f4-7065-4a3a-984d-a721c5b9ad6a",
   "metadata": {
    "execution": {
     "iopub.execute_input": "2025-01-26T19:02:50.340169Z",
     "iopub.status.busy": "2025-01-26T19:02:50.339828Z",
     "iopub.status.idle": "2025-01-26T19:02:50.344047Z",
     "shell.execute_reply": "2025-01-26T19:02:50.343394Z",
     "shell.execute_reply.started": "2025-01-26T19:02:50.340147Z"
    }
   },
   "outputs": [],
   "source": [
    "from tensorflow.keras.preprocessing.image import ImageDataGenerator\n",
    "from tensorflow.keras.applications import EfficientNetB0\n",
    "from tensorflow.keras.applications.efficientnet import preprocess_input"
   ]
  },
  {
   "cell_type": "code",
   "execution_count": 26,
   "id": "2b2b6705-0a5f-4af5-83f9-a82634eb9233",
   "metadata": {
    "execution": {
     "iopub.execute_input": "2025-01-26T18:55:27.643637Z",
     "iopub.status.busy": "2025-01-26T18:55:27.643284Z",
     "iopub.status.idle": "2025-01-26T18:55:27.648511Z",
     "shell.execute_reply": "2025-01-26T18:55:27.647855Z",
     "shell.execute_reply.started": "2025-01-26T18:55:27.643614Z"
    }
   },
   "outputs": [],
   "source": [
    "def make_model_large(input_size,learning_rate, inner_size,drop_rate):\n",
    "    base_model1=EfficientNetB0(weights=\"imagenet\",\n",
    "                    include_top=False,\n",
    "                    input_shape=(input_size,input_size,3)\n",
    "                   )\n",
    "    base_model1.trainable=False\n",
    "    inputs1 =keras.Input(shape=(input_size,input_size,3))\n",
    "    base1 =base_model1(inputs1,training=False)\n",
    "    pooling=keras.layers.GlobalAvgPool2D()\n",
    "    vectors1=pooling(base1)\n",
    "    \n",
    "    inner1 =keras.layers.Dense(inner_size,activation='relu')(vectors1) # inner layers # activation function relu for inner layers \n",
    "    drop1 =keras.layers.Dropout(drop_rate)(inner1)\n",
    "    outputs1=keras.layers.Dense(4)(drop1) # ,activation='softmax'\n",
    "    model1=keras.Model(inputs1,outputs1)\n",
    "    optimizer=keras.optimizers.Adam(learning_rate=learning_rate)# optimize the wieghts of the dense layers \n",
    "    #meseuring the accuracy for the optimizer \n",
    "    loss= keras.losses.CategoricalCrossentropy(from_logits=True) #MSE for regression models (logist true makes it more stable)\n",
    "    # in case of logists False you must add actimation fuction to the output1 layers activation='softmax'\n",
    "\n",
    "    model1.compile(optimizer=optimizer, loss=loss, metrics=['accuracy'])\n",
    "    return model1"
   ]
  },
  {
   "cell_type": "code",
   "execution_count": 33,
   "id": "e769dae6-b0c2-4144-8a6a-2560d7eefacd",
   "metadata": {
    "execution": {
     "iopub.execute_input": "2025-01-26T19:06:13.038823Z",
     "iopub.status.busy": "2025-01-26T19:06:13.038478Z",
     "iopub.status.idle": "2025-01-26T19:06:13.042235Z",
     "shell.execute_reply": "2025-01-26T19:06:13.041669Z",
     "shell.execute_reply.started": "2025-01-26T19:06:13.038802Z"
    }
   },
   "outputs": [],
   "source": [
    "checkpoint=keras.callbacks.ModelCheckpoint(\n",
    "    'MRI_v1_{epoch:02d}_{val_accuracy:.3f}.keras',\n",
    "    save_best_only=True,\n",
    "    monitor ='val_accuracy',\n",
    "    mode='max'\n",
    ")"
   ]
  },
  {
   "cell_type": "code",
   "execution_count": 34,
   "id": "58431777-ba6c-4a67-a5cf-83531910b12b",
   "metadata": {
    "execution": {
     "iopub.execute_input": "2025-01-26T19:06:16.661177Z",
     "iopub.status.busy": "2025-01-26T19:06:16.660833Z",
     "iopub.status.idle": "2025-01-26T19:36:23.822385Z",
     "shell.execute_reply": "2025-01-26T19:36:23.821894Z",
     "shell.execute_reply.started": "2025-01-26T19:06:16.661157Z"
    }
   },
   "outputs": [
    {
     "name": "stdout",
     "output_type": "stream",
     "text": [
      "Found 5712 images belonging to 4 classes.\n",
      "Found 1311 images belonging to 4 classes.\n",
      "Epoch 1/10\n"
     ]
    },
    {
     "name": "stderr",
     "output_type": "stream",
     "text": [
      "/opt/saturncloud/envs/saturn/lib/python3.12/site-packages/keras/src/trainers/data_adapters/py_dataset_adapter.py:121: UserWarning: Your `PyDataset` class should call `super().__init__(**kwargs)` in its constructor. `**kwargs` can include `workers`, `use_multiprocessing`, `max_queue_size`. Do not pass these arguments to `fit()`, as they will be ignored.\n",
      "  self._warn_if_super_not_called()\n"
     ]
    },
    {
     "name": "stdout",
     "output_type": "stream",
     "text": [
      "\u001b[1m179/179\u001b[0m \u001b[32m━━━━━━━━━━━━━━━━━━━━\u001b[0m\u001b[37m\u001b[0m \u001b[1m204s\u001b[0m 1s/step - accuracy: 0.6969 - loss: 0.7708 - val_accuracy: 0.8497 - val_loss: 0.3656\n",
      "Epoch 2/10\n",
      "\u001b[1m179/179\u001b[0m \u001b[32m━━━━━━━━━━━━━━━━━━━━\u001b[0m\u001b[37m\u001b[0m \u001b[1m179s\u001b[0m 1000ms/step - accuracy: 0.8688 - loss: 0.3597 - val_accuracy: 0.8741 - val_loss: 0.3042\n",
      "Epoch 3/10\n",
      "\u001b[1m179/179\u001b[0m \u001b[32m━━━━━━━━━━━━━━━━━━━━\u001b[0m\u001b[37m\u001b[0m \u001b[1m178s\u001b[0m 995ms/step - accuracy: 0.8970 - loss: 0.2937 - val_accuracy: 0.9031 - val_loss: 0.2465\n",
      "Epoch 4/10\n",
      "\u001b[1m179/179\u001b[0m \u001b[32m━━━━━━━━━━━━━━━━━━━━\u001b[0m\u001b[37m\u001b[0m \u001b[1m180s\u001b[0m 1s/step - accuracy: 0.9004 - loss: 0.2735 - val_accuracy: 0.9039 - val_loss: 0.2339\n",
      "Epoch 5/10\n",
      "\u001b[1m179/179\u001b[0m \u001b[32m━━━━━━━━━━━━━━━━━━━━\u001b[0m\u001b[37m\u001b[0m \u001b[1m177s\u001b[0m 990ms/step - accuracy: 0.9222 - loss: 0.2203 - val_accuracy: 0.9199 - val_loss: 0.2029\n",
      "Epoch 6/10\n",
      "\u001b[1m179/179\u001b[0m \u001b[32m━━━━━━━━━━━━━━━━━━━━\u001b[0m\u001b[37m\u001b[0m \u001b[1m174s\u001b[0m 974ms/step - accuracy: 0.9252 - loss: 0.2043 - val_accuracy: 0.9077 - val_loss: 0.2224\n",
      "Epoch 7/10\n",
      "\u001b[1m179/179\u001b[0m \u001b[32m━━━━━━━━━━━━━━━━━━━━\u001b[0m\u001b[37m\u001b[0m \u001b[1m177s\u001b[0m 987ms/step - accuracy: 0.9196 - loss: 0.2118 - val_accuracy: 0.9230 - val_loss: 0.2031\n",
      "Epoch 8/10\n",
      "\u001b[1m179/179\u001b[0m \u001b[32m━━━━━━━━━━━━━━━━━━━━\u001b[0m\u001b[37m\u001b[0m \u001b[1m179s\u001b[0m 1s/step - accuracy: 0.9376 - loss: 0.1728 - val_accuracy: 0.9275 - val_loss: 0.1710\n",
      "Epoch 9/10\n",
      "\u001b[1m179/179\u001b[0m \u001b[32m━━━━━━━━━━━━━━━━━━━━\u001b[0m\u001b[37m\u001b[0m \u001b[1m180s\u001b[0m 1s/step - accuracy: 0.9420 - loss: 0.1657 - val_accuracy: 0.9321 - val_loss: 0.1681\n",
      "Epoch 10/10\n",
      "\u001b[1m179/179\u001b[0m \u001b[32m━━━━━━━━━━━━━━━━━━━━\u001b[0m\u001b[37m\u001b[0m \u001b[1m178s\u001b[0m 995ms/step - accuracy: 0.9439 - loss: 0.1565 - val_accuracy: 0.9275 - val_loss: 0.1641\n"
     ]
    }
   ],
   "source": [
    "learning_rate = 0.001\n",
    "drop_rate=0.2\n",
    "input_size=300\n",
    "# Build image generator for training (takes preprocessing input function)\n",
    "train_gen1 = ImageDataGenerator(preprocessing_function=preprocess_input)\n",
    "# Load the train dataset into the train generator\n",
    "train_ds1 = train_gen1.flow_from_directory(directory='./dataset/Training/', # Train images directory\n",
    "                                         target_size=(input_size,input_size), # resize images to train faster\n",
    "                                         batch_size=32) # 32 images per batch\n",
    "val_gen1 = ImageDataGenerator(preprocessing_function=preprocess_input)\n",
    "# Load the train dataset into the train generator\n",
    "val_ds1 = val_gen1.flow_from_directory(directory='./dataset/Testing/', # Train images directory\n",
    "                                         target_size=(input_size,input_size), # resize images to train faster\n",
    "                                         batch_size=32) # 32 images per batch\n",
    "\n",
    "model3 = make_model_large(input_size=input_size,learning_rate=learning_rate,inner_size=20,drop_rate=drop_rate)\n",
    " \n",
    "history = model3.fit(\n",
    "    train_ds1,\n",
    "    epochs=10,\n",
    "    validation_data=val_ds1,\n",
    "    callbacks=[checkpoint]\n",
    ")"
   ]
  },
  {
   "cell_type": "code",
   "execution_count": 36,
   "id": "d42473bf-4490-4b87-b84e-e81f6aab3607",
   "metadata": {
    "execution": {
     "iopub.execute_input": "2025-01-26T19:40:33.739573Z",
     "iopub.status.busy": "2025-01-26T19:40:33.739237Z",
     "iopub.status.idle": "2025-01-26T19:40:33.865095Z",
     "shell.execute_reply": "2025-01-26T19:40:33.864589Z",
     "shell.execute_reply.started": "2025-01-26T19:40:33.739550Z"
    }
   },
   "outputs": [
    {
     "data": {
      "text/plain": [
       "<matplotlib.legend.Legend at 0x7fb62e66b410>"
      ]
     },
     "execution_count": 36,
     "metadata": {},
     "output_type": "execute_result"
    },
    {
     "data": {
      "image/png": "[encoded data removed]",
      "text/plain": [
       "<Figure size 640x480 with 1 Axes>"
      ]
     },
     "metadata": {},
     "output_type": "display_data"
    }
   ],
   "source": [
    "plt.plot(history.history['accuracy'],label='train_accuracy')\n",
    "plt.plot(history.history['val_accuracy'],label='test_accuracy')\n",
    "plt.legend()"
   ]
  },
  {
   "cell_type": "code",
   "execution_count": 1,
   "id": "9e101995-1aaf-4efa-bb34-b00a51fc1c6e",
   "metadata": {
    "execution": {
     "iopub.execute_input": "2025-01-26T20:14:02.080287Z",
     "iopub.status.busy": "2025-01-26T20:14:02.079483Z",
     "iopub.status.idle": "2025-01-26T20:14:02.229720Z",
     "shell.execute_reply": "2025-01-26T20:14:02.228866Z",
     "shell.execute_reply.started": "2025-01-26T20:14:02.080246Z"
    }
   },
   "outputs": [
    {
     "ename": "NameError",
     "evalue": "name 'img' is not defined",
     "output_type": "error",
     "traceback": [
      "\u001b[0;31m---------------------------------------------------------------------------\u001b[0m",
      "\u001b[0;31mNameError\u001b[0m                                 Traceback (most recent call last)",
      "Cell \u001b[0;32mIn[1], line 1\u001b[0m\n\u001b[0;32m----> 1\u001b[0m \u001b[43mimg\u001b[49m\n",
      "\u001b[0;31mNameError\u001b[0m: name 'img' is not defined"
     ]
    }
   ],
   "source": []
  },
  {
   "cell_type": "code",
   "execution_count": null,
   "id": "bced24ba-3603-4cc4-b03a-66cbeb7f159b",
   "metadata": {},
   "outputs": [],
   "source": []
  }
 ],
 "metadata": {
  "kernelspec": {
   "display_name": "saturn (Python 3)",
   "language": "python",
   "name": "python3"
  },
  "language_info": {
   "codemirror_mode": {
    "name": "ipython",
    "version": 3
   },
   "file_extension": ".py",
   "mimetype": "text/x-python",
   "name": "python",
   "nbconvert_exporter": "python",
   "pygments_lexer": "ipython3",
   "version": "3.12.7"
  }
 },
 "nbformat": 4,
 "nbformat_minor": 5
}

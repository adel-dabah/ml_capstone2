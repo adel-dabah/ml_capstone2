{
 "cells": [
  {
   "cell_type": "code",
   "execution_count": null,
   "id": "93b2d924-6781-46ef-875c-01b4033ca1e0",
   "metadata": {},
   "outputs": [],
   "source": [
    "#load the saved model"
   ]
  },
  {
   "cell_type": "code",
   "execution_count": 1,
   "id": "567dbd40-d5c9-4065-b023-9fe70fe071bf",
   "metadata": {
    "execution": {
     "iopub.execute_input": "2025-01-26T20:17:37.012292Z",
     "iopub.status.busy": "2025-01-26T20:17:37.011941Z",
     "iopub.status.idle": "2025-01-26T20:17:43.469876Z",
     "shell.execute_reply": "2025-01-26T20:17:43.469277Z",
     "shell.execute_reply.started": "2025-01-26T20:17:37.012268Z"
    }
   },
   "outputs": [
    {
     "name": "stderr",
     "output_type": "stream",
     "text": [
      "2025-01-26 20:17:37.357568: I tensorflow/core/util/port.cc:153] oneDNN custom operations are on. You may see slightly different numerical results due to floating-point round-off errors from different computation orders. To turn them off, set the environment variable `TF_ENABLE_ONEDNN_OPTS=0`.\n",
      "2025-01-26 20:17:37.375619: E external/local_xla/xla/stream_executor/cuda/cuda_fft.cc:477] Unable to register cuFFT factory: Attempting to register factory for plugin cuFFT when one has already been registered\n",
      "WARNING: All log messages before absl::InitializeLog() is called are written to STDERR\n",
      "E0000 00:00:1737922657.395726     740 cuda_dnn.cc:8310] Unable to register cuDNN factory: Attempting to register factory for plugin cuDNN when one has already been registered\n",
      "E0000 00:00:1737922657.401838     740 cuda_blas.cc:1418] Unable to register cuBLAS factory: Attempting to register factory for plugin cuBLAS when one has already been registered\n",
      "2025-01-26 20:17:37.432652: I tensorflow/core/platform/cpu_feature_guard.cc:210] This TensorFlow binary is optimized to use available CPU instructions in performance-critical operations.\n",
      "To enable the following instructions: AVX2 AVX512F AVX512_VNNI FMA, in other operations, rebuild TensorFlow with the appropriate compiler flags.\n"
     ]
    }
   ],
   "source": [
    "import tensorflow as tf\n",
    "from tensorflow import keras"
   ]
  },
  {
   "cell_type": "code",
   "execution_count": 2,
   "id": "4ed2d15d-43d5-4cf4-8c5d-052b5e33bf23",
   "metadata": {
    "execution": {
     "iopub.execute_input": "2025-01-26T20:18:24.523222Z",
     "iopub.status.busy": "2025-01-26T20:18:24.522882Z",
     "iopub.status.idle": "2025-01-26T20:18:26.377886Z",
     "shell.execute_reply": "2025-01-26T20:18:26.377326Z",
     "shell.execute_reply.started": "2025-01-26T20:18:24.523196Z"
    }
   },
   "outputs": [
    {
     "name": "stderr",
     "output_type": "stream",
     "text": [
      "W0000 00:00:1737922704.971905     740 gpu_device.cc:2344] Cannot dlopen some GPU libraries. Please make sure the missing libraries mentioned above are installed properly if you would like to use GPU. Follow the guide at https://www.tensorflow.org/install/gpu for how to download and setup the required libraries for your platform.\n",
      "Skipping registering GPU devices...\n"
     ]
    }
   ],
   "source": [
    "model=keras.models.load_model('MRI_v1_07_0.923.keras')"
   ]
  },
  {
   "cell_type": "code",
   "execution_count": 3,
   "id": "2b6fd122-a892-4081-a9df-f3916801c051",
   "metadata": {
    "execution": {
     "iopub.execute_input": "2025-01-26T20:18:49.429185Z",
     "iopub.status.busy": "2025-01-26T20:18:49.428487Z",
     "iopub.status.idle": "2025-01-26T20:18:49.433784Z",
     "shell.execute_reply": "2025-01-26T20:18:49.433117Z",
     "shell.execute_reply.started": "2025-01-26T20:18:49.429147Z"
    }
   },
   "outputs": [],
   "source": [
    "from tensorflow.keras.preprocessing.image import ImageDataGenerator"
   ]
  },
  {
   "cell_type": "code",
   "execution_count": 4,
   "id": "ac630f87-3902-4173-9f3a-07adb2856c62",
   "metadata": {
    "execution": {
     "iopub.execute_input": "2025-01-26T20:19:13.306252Z",
     "iopub.status.busy": "2025-01-26T20:19:13.305863Z",
     "iopub.status.idle": "2025-01-26T20:19:13.310361Z",
     "shell.execute_reply": "2025-01-26T20:19:13.309829Z",
     "shell.execute_reply.started": "2025-01-26T20:19:13.306229Z"
    }
   },
   "outputs": [],
   "source": [
    "from tensorflow.keras.applications.efficientnet import preprocess_input"
   ]
  },
  {
   "cell_type": "code",
   "execution_count": 5,
   "id": "84ebeb87-791c-44aa-8b2d-ea2abdfb14d2",
   "metadata": {
    "execution": {
     "iopub.execute_input": "2025-01-26T20:20:14.975243Z",
     "iopub.status.busy": "2025-01-26T20:20:14.974900Z",
     "iopub.status.idle": "2025-01-26T20:20:15.020726Z",
     "shell.execute_reply": "2025-01-26T20:20:15.020248Z",
     "shell.execute_reply.started": "2025-01-26T20:20:14.975221Z"
    }
   },
   "outputs": [
    {
     "name": "stdout",
     "output_type": "stream",
     "text": [
      "Found 1311 images belonging to 4 classes.\n"
     ]
    }
   ],
   "source": [
    "input_size=300\n",
    "# Build image generator for training (takes preprocessing input function)\n",
    "test_gen = ImageDataGenerator(preprocessing_function=preprocess_input)\n",
    "# Load the test dataset into the train generator\n",
    "test_ds = test_gen.flow_from_directory(directory='./dataset/Testing/', # Train images directory\n",
    "                                         target_size=(input_size,input_size), # resize images to train faster\n",
    "                                         batch_size=32) # 32 images per batch"
   ]
  },
  {
   "cell_type": "code",
   "execution_count": 6,
   "id": "365d480e-1c6a-42fe-85fa-14dac8befcee",
   "metadata": {
    "execution": {
     "iopub.execute_input": "2025-01-26T20:20:34.640293Z",
     "iopub.status.busy": "2025-01-26T20:20:34.639873Z",
     "iopub.status.idle": "2025-01-26T20:21:15.838786Z",
     "shell.execute_reply": "2025-01-26T20:21:15.838267Z",
     "shell.execute_reply.started": "2025-01-26T20:20:34.640254Z"
    }
   },
   "outputs": [
    {
     "name": "stderr",
     "output_type": "stream",
     "text": [
      "/opt/saturncloud/envs/saturn/lib/python3.12/site-packages/keras/src/trainers/data_adapters/py_dataset_adapter.py:121: UserWarning: Your `PyDataset` class should call `super().__init__(**kwargs)` in its constructor. `**kwargs` can include `workers`, `use_multiprocessing`, `max_queue_size`. Do not pass these arguments to `fit()`, as they will be ignored.\n",
      "  self._warn_if_super_not_called()\n"
     ]
    },
    {
     "name": "stdout",
     "output_type": "stream",
     "text": [
      "\u001b[1m41/41\u001b[0m \u001b[32m━━━━━━━━━━━━━━━━━━━━\u001b[0m\u001b[37m\u001b[0m \u001b[1m41s\u001b[0m 887ms/step - accuracy: 0.9325 - loss: 0.1948\n"
     ]
    },
    {
     "data": {
      "text/plain": [
       "[0.2031494379043579, 0.922959566116333]"
      ]
     },
     "execution_count": 6,
     "metadata": {},
     "output_type": "execute_result"
    }
   ],
   "source": [
    "model.evaluate(test_ds)"
   ]
  },
  {
   "cell_type": "code",
   "execution_count": 7,
   "id": "3b291a62-31a6-413f-a415-992d0da91a18",
   "metadata": {
    "execution": {
     "iopub.execute_input": "2025-01-26T20:23:01.895638Z",
     "iopub.status.busy": "2025-01-26T20:23:01.895290Z",
     "iopub.status.idle": "2025-01-26T20:23:01.898743Z",
     "shell.execute_reply": "2025-01-26T20:23:01.898068Z",
     "shell.execute_reply.started": "2025-01-26T20:23:01.895616Z"
    }
   },
   "outputs": [],
   "source": [
    "import numpy as np "
   ]
  },
  {
   "cell_type": "code",
   "execution_count": 8,
   "id": "76c80ac3-cd61-4aaf-8579-6f9b060c18a9",
   "metadata": {
    "execution": {
     "iopub.execute_input": "2025-01-26T20:24:07.905633Z",
     "iopub.status.busy": "2025-01-26T20:24:07.905265Z",
     "iopub.status.idle": "2025-01-26T20:24:07.908758Z",
     "shell.execute_reply": "2025-01-26T20:24:07.908115Z",
     "shell.execute_reply.started": "2025-01-26T20:24:07.905609Z"
    }
   },
   "outputs": [],
   "source": [
    "from tensorflow.keras.preprocessing.image import load_img"
   ]
  },
  {
   "cell_type": "code",
   "execution_count": 9,
   "id": "df103dd6-ef51-497b-a663-2b8c0e5d7c70",
   "metadata": {
    "execution": {
     "iopub.execute_input": "2025-01-26T20:25:21.248398Z",
     "iopub.status.busy": "2025-01-26T20:25:21.248029Z",
     "iopub.status.idle": "2025-01-26T20:25:21.253204Z",
     "shell.execute_reply": "2025-01-26T20:25:21.252541Z",
     "shell.execute_reply.started": "2025-01-26T20:25:21.248375Z"
    }
   },
   "outputs": [],
   "source": [
    "img =load_img(\"./dataset/Testing/notumor/Te-no_0029.jpg\", target_size=(300,300))"
   ]
  },
  {
   "cell_type": "code",
   "execution_count": 10,
   "id": "5f60ff20-c2c7-4d1c-b957-d5508a972f5f",
   "metadata": {
    "execution": {
     "iopub.execute_input": "2025-01-26T20:25:40.974740Z",
     "iopub.status.busy": "2025-01-26T20:25:40.974408Z",
     "iopub.status.idle": "2025-01-26T20:25:40.978206Z",
     "shell.execute_reply": "2025-01-26T20:25:40.977575Z",
     "shell.execute_reply.started": "2025-01-26T20:25:40.974715Z"
    }
   },
   "outputs": [],
   "source": [
    "x=np.array(img)"
   ]
  },
  {
   "cell_type": "code",
   "execution_count": 12,
   "id": "f197c072-12a4-4610-bb39-87aa1b8cd3b2",
   "metadata": {
    "execution": {
     "iopub.execute_input": "2025-01-26T20:26:01.710767Z",
     "iopub.status.busy": "2025-01-26T20:26:01.710427Z",
     "iopub.status.idle": "2025-01-26T20:26:01.719495Z",
     "shell.execute_reply": "2025-01-26T20:26:01.718904Z",
     "shell.execute_reply.started": "2025-01-26T20:26:01.710745Z"
    }
   },
   "outputs": [
    {
     "data": {
      "image/jpeg": "[encoded data removed]",
      "image/png": "[encoded data removed]",
      "text/plain": [
       "<PIL.Image.Image image mode=RGB size=300x300>"
      ]
     },
     "execution_count": 12,
     "metadata": {},
     "output_type": "execute_result"
    }
   ],
   "source": [
    "img"
   ]
  },
  {
   "cell_type": "code",
   "execution_count": 13,
   "id": "4abf0834-c475-40c5-ab4b-8fb4084a1e35",
   "metadata": {
    "execution": {
     "iopub.execute_input": "2025-01-26T20:26:41.137341Z",
     "iopub.status.busy": "2025-01-26T20:26:41.137010Z",
     "iopub.status.idle": "2025-01-26T20:26:41.140909Z",
     "shell.execute_reply": "2025-01-26T20:26:41.140081Z",
     "shell.execute_reply.started": "2025-01-26T20:26:41.137318Z"
    }
   },
   "outputs": [],
   "source": [
    "X=np.array([x])"
   ]
  },
  {
   "cell_type": "code",
   "execution_count": 17,
   "id": "23c83b23-2124-49c2-b005-6db5d6c65b0c",
   "metadata": {
    "execution": {
     "iopub.execute_input": "2025-01-26T20:34:09.649240Z",
     "iopub.status.busy": "2025-01-26T20:34:09.648911Z",
     "iopub.status.idle": "2025-01-26T20:34:09.769734Z",
     "shell.execute_reply": "2025-01-26T20:34:09.769187Z",
     "shell.execute_reply.started": "2025-01-26T20:34:09.649216Z"
    }
   },
   "outputs": [
    {
     "name": "stdout",
     "output_type": "stream",
     "text": [
      "\u001b[1m1/1\u001b[0m \u001b[32m━━━━━━━━━━━━━━━━━━━━\u001b[0m\u001b[37m\u001b[0m \u001b[1m0s\u001b[0m 79ms/step\n"
     ]
    }
   ],
   "source": [
    "pred_x=model.predict(X)"
   ]
  },
  {
   "cell_type": "code",
   "execution_count": 16,
   "id": "1010a37e-9232-4ecd-9238-33dc048b7d01",
   "metadata": {
    "execution": {
     "iopub.execute_input": "2025-01-26T20:33:35.342728Z",
     "iopub.status.busy": "2025-01-26T20:33:35.342392Z",
     "iopub.status.idle": "2025-01-26T20:33:35.347349Z",
     "shell.execute_reply": "2025-01-26T20:33:35.346774Z",
     "shell.execute_reply.started": "2025-01-26T20:33:35.342704Z"
    }
   },
   "outputs": [
    {
     "data": {
      "text/plain": [
       "{'glioma': 0, 'meningioma': 1, 'notumor': 2, 'pituitary': 3}"
      ]
     },
     "execution_count": 16,
     "metadata": {},
     "output_type": "execute_result"
    }
   ],
   "source": [
    "test_ds.class_indices"
   ]
  },
  {
   "cell_type": "code",
   "execution_count": 21,
   "id": "f11f06ee-3e8e-4a47-9859-0094f1f153a2",
   "metadata": {
    "execution": {
     "iopub.execute_input": "2025-01-26T20:35:54.234652Z",
     "iopub.status.busy": "2025-01-26T20:35:54.234324Z",
     "iopub.status.idle": "2025-01-26T20:35:54.237907Z",
     "shell.execute_reply": "2025-01-26T20:35:54.237202Z",
     "shell.execute_reply.started": "2025-01-26T20:35:54.234630Z"
    }
   },
   "outputs": [],
   "source": [
    "pred=dict(zip(list(test_ds.class_indices.keys()), list(pred_x[0])))"
   ]
  },
  {
   "cell_type": "code",
   "execution_count": 22,
   "id": "db4cd35e-0935-41d1-853a-8cbfcb3fb214",
   "metadata": {
    "execution": {
     "iopub.execute_input": "2025-01-26T20:35:54.896025Z",
     "iopub.status.busy": "2025-01-26T20:35:54.895677Z",
     "iopub.status.idle": "2025-01-26T20:35:54.899951Z",
     "shell.execute_reply": "2025-01-26T20:35:54.899360Z",
     "shell.execute_reply.started": "2025-01-26T20:35:54.896004Z"
    }
   },
   "outputs": [
    {
     "data": {
      "text/plain": [
       "{'glioma': np.float32(-1.0813451),\n",
       " 'meningioma': np.float32(1.1072482),\n",
       " 'notumor': np.float32(1.8543888),\n",
       " 'pituitary': np.float32(-5.3703837)}"
      ]
     },
     "execution_count": 22,
     "metadata": {},
     "output_type": "execute_result"
    }
   ],
   "source": [
    "pred"
   ]
  },
  {
   "cell_type": "code",
   "execution_count": null,
   "id": "2bc3d556-d720-4530-ad62-4baacc25dd73",
   "metadata": {},
   "outputs": [],
   "source": []
  }
 ],
 "metadata": {
  "kernelspec": {
   "display_name": "saturn (Python 3)",
   "language": "python",
   "name": "python3"
  },
  "language_info": {
   "codemirror_mode": {
    "name": "ipython",
    "version": 3
   },
   "file_extension": ".py",
   "mimetype": "text/x-python",
   "name": "python",
   "nbconvert_exporter": "python",
   "pygments_lexer": "ipython3",
   "version": "3.12.7"
  }
 },
 "nbformat": 4,
 "nbformat_minor": 5
}
